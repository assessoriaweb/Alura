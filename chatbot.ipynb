{
  "nbformat": 4,
  "nbformat_minor": 0,
  "metadata": {
    "colab": {
      "provenance": [],
      "authorship_tag": "ABX9TyPF5TXZwdPS3ZXgm425Yftb",
      "include_colab_link": true
    },
    "kernelspec": {
      "name": "python3",
      "display_name": "Python 3"
    },
    "language_info": {
      "name": "python"
    }
  },
  "cells": [
    {
      "cell_type": "markdown",
      "metadata": {
        "id": "view-in-github",
        "colab_type": "text"
      },
      "source": [
        "<a href=\"https://colab.research.google.com/github/assessoriaweb/Alura/blob/main/chatbot.ipynb\" target=\"_parent\"><img src=\"https://colab.research.google.com/assets/colab-badge.svg\" alt=\"Open In Colab\"/></a>"
      ]
    },
    {
      "cell_type": "code",
      "execution_count": null,
      "metadata": {
        "id": "Uoh5tdwAQYw2"
      },
      "outputs": [],
      "source": []
    },
    {
      "cell_type": "markdown",
      "source": [
        "Instalando o SDK do Google"
      ],
      "metadata": {
        "id": "CXjde6LxQjYa"
      }
    },
    {
      "cell_type": "code",
      "source": [],
      "metadata": {
        "id": "pqgPPIZKQpui"
      },
      "execution_count": null,
      "outputs": []
    },
    {
      "cell_type": "code",
      "execution_count": null,
      "metadata": {
        "id": "J6Pd9SFJ1yVi"
      },
      "outputs": [],
      "source": [
        "!pip install -q -U google-generativeai"
      ]
    },
    {
      "cell_type": "code",
      "source": [],
      "metadata": {
        "id": "hvLR5tl3Q0Mv"
      },
      "execution_count": null,
      "outputs": []
    },
    {
      "cell_type": "code",
      "execution_count": 1,
      "metadata": {
        "id": "HTiaTu6O1LRC"
      },
      "outputs": [],
      "source": [
        "# Import the Python SDK\n",
        "import google.generativeai as genai\n",
        "\n",
        "GOOGLE_API_KEY=''\n",
        "genai.configure(api_key=GOOGLE_API_KEY)"
      ]
    },
    {
      "cell_type": "markdown",
      "source": [
        "Listar os Modelos disponíveis"
      ],
      "metadata": {
        "id": "NiBkexuxRBpd"
      }
    },
    {
      "cell_type": "code",
      "source": [
        "for m in genai.list_models():\n",
        "  if 'generateContent' in m.supported_generation_methods:\n",
        "    print(m.name)"
      ],
      "metadata": {
        "colab": {
          "base_uri": "https://localhost:8080/",
          "height": 139
        },
        "id": "80zcb4apQ5qi",
        "outputId": "05355a49-4524-40b3-82a9-83be58abe574"
      },
      "execution_count": null,
      "outputs": [
        {
          "output_type": "stream",
          "name": "stdout",
          "text": [
            "models/gemini-1.0-pro\n",
            "models/gemini-1.0-pro-001\n",
            "models/gemini-1.0-pro-latest\n",
            "models/gemini-1.0-pro-vision-latest\n",
            "models/gemini-1.5-pro-latest\n",
            "models/gemini-pro\n",
            "models/gemini-pro-vision\n"
          ]
        }
      ]
    },
    {
      "cell_type": "code",
      "source": [
        "generation_config = {\n",
        "    'candidate_count': 1,\n",
        "    'temparature': 0.5\n",
        "}"
      ],
      "metadata": {
        "id": "Yw8PBNEZX4Ga"
      },
      "execution_count": null,
      "outputs": []
    },
    {
      "cell_type": "markdown",
      "source": [
        "Configurando os filtros de segurança"
      ],
      "metadata": {
        "id": "25LVDOqGagYX"
      }
    },
    {
      "cell_type": "code",
      "source": [
        "safety_settings = {\n",
        "    \"HARASSMENT\": \"BLOCK NONE\",\n",
        "    \"HATE\": \"BLOCK NONE\",\n",
        "    \"SEXUAL\": \"BLOCK NONE\",\n",
        "    \"DANGEROUS\": \"BLOCK NONE\"\n",
        "}"
      ],
      "metadata": {
        "id": "MWanCrTLZCwO"
      },
      "execution_count": null,
      "outputs": []
    },
    {
      "cell_type": "markdown",
      "source": [
        "Inicializando o Modelo"
      ],
      "metadata": {
        "id": "y_TJ1DYia2dy"
      }
    },
    {
      "cell_type": "code",
      "source": [
        "model = genai.GenerativeModel(model_name=\"gemini-1.0-pro\")"
      ],
      "metadata": {
        "id": "cMQvIP99a9U0"
      },
      "execution_count": null,
      "outputs": []
    },
    {
      "cell_type": "code",
      "source": [
        "response = model.generate_content(\"Vamos aprender conteúdo sobre IA, me dê sujestões...\")\n",
        "print(response.text)"
      ],
      "metadata": {
        "colab": {
          "base_uri": "https://localhost:8080/",
          "height": 763
        },
        "id": "bH8UjU5Ghddr",
        "outputId": "c831c375-0f2b-46ed-e233-41f99ba53962"
      },
      "execution_count": null,
      "outputs": [
        {
          "output_type": "stream",
          "name": "stdout",
          "text": [
            "**Conceitos Fundamentais**\n",
            "\n",
            "* O que é Inteligência Artificial (IA)?\n",
            "* Tipos de IA: Aprendizagem de Máquina, Aprendizagem Profunda, Processamento de Linguagem Natural\n",
            "* História e evolução da IA\n",
            "\n",
            "**Aprendizado de Máquina**\n",
            "\n",
            "* Conceitos de Aprendizado Supervisionado e Não Supervisionado\n",
            "* Algoritmos de Aprendizado de Máquina: Regressão Linear, Árvores de Decisão, Redes Neurais\n",
            "* Avaliação e otimização de modelos de ML\n",
            "\n",
            "**Aprendizado Profundo**\n",
            "\n",
            "* Redes Neurais Artificiais (RNA)\n",
            "* Arquiteturas de Redes Neurais: Convolucionais, Recorrentes\n",
            "* Treinamento e avaliação de modelos de Aprendizado Profundo\n",
            "\n",
            "**Processamento de Linguagem Natural (PNL)**\n",
            "\n",
            "* Técnicas de PNL: Tokenização, Stemmização, Lematização\n",
            "* Modelos de PNL: Modelos de Linguagem, Transformadores\n",
            "* Aplicações de PNL: Resumo de Texto, Análise de Sentimentos\n",
            "\n",
            "**Aplicações da IA**\n",
            "\n",
            "* Visão Computacional: Reconhecimento de Imagem, Detecção de Objetos\n",
            "* Processamento de Linguagem Natural: Tradução Automática, Chatbots\n",
            "* IA na Indústria: Otimização de Negócios, Automação de Processos\n",
            "* IA na Medicina: Diagnóstico, Previsão de Riscos\n",
            "\n",
            "**Ética e Implicações da IA**\n",
            "\n",
            "* Preocupações éticas: Viés, Discriminação, Privacidade\n",
            "* Regulamentações e políticas relacionadas à IA\n",
            "* Implicações sociais e econômicas da IA\n",
            "\n",
            "**Recursos de Aprendizagem**\n",
            "\n",
            "* Plataformas de Cursos Online (Coursera, edX, Udemy)\n",
            "* Tutoriais e documentação de IA\n",
            "* Livros e artigos de pesquisa\n",
            "* Comunidades online e fóruns\n"
          ]
        }
      ]
    },
    {
      "cell_type": "code",
      "source": [
        "chat = model.start_chat(history=[])"
      ],
      "metadata": {
        "id": "5L9Cl7g0h-o2"
      },
      "execution_count": null,
      "outputs": []
    },
    {
      "cell_type": "code",
      "source": [
        "prompt = input(\"Esperando o prompt: \")\n",
        "\n",
        "while prompt != \"Fim\":\n",
        "  response = chat.send_message(prompt)\n",
        "  print(\"Resposta: \", response.text, \"\\n\")\n",
        "  prompt = input(\"Esperando o prompt: \")"
      ],
      "metadata": {
        "colab": {
          "base_uri": "https://localhost:8080/",
          "height": 243
        },
        "id": "AfgJEhjpiY0h",
        "outputId": "64fe92fb-6bc2-4424-f893-740366261b55"
      },
      "execution_count": null,
      "outputs": [
        {
          "name": "stdout",
          "output_type": "stream",
          "text": [
            "Esperando o prompt: Qual a capital do Japão?\n",
            "Resposta:  Tóquio \n",
            "\n",
            "Esperando o prompt: Qual a comida típica desse país?\n",
            "Resposta:  Sushi \n",
            "\n",
            "Esperando o prompt: Meu primo nasceu nessa cidade, qual a nacionalidade dele?\n",
            "Resposta:  Japonês \n",
            "\n",
            "Esperando o prompt: Qual a população dessa cidade?\n",
            "Resposta:  Tóquio: cerca de 13,96 milhões de habitantes (2020) \n",
            "\n",
            "Esperando o prompt: Fim\n"
          ]
        }
      ]
    }
  ]
}